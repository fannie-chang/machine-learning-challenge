{
 "cells": [
  {
   "cell_type": "code",
   "execution_count": null,
   "metadata": {},
   "outputs": [],
   "source": [
    "# Update sklearn to prevent version mismatches\n",
    "!pip install sklearn --upgrade"
   ]
  },
  {
   "cell_type": "code",
   "execution_count": null,
   "metadata": {},
   "outputs": [],
   "source": [
    "# install joblib. This will be used to save your model. \n",
    "# Restart your kernel after installing \n",
    "!pip install joblib"
   ]
  },
  {
   "cell_type": "code",
   "execution_count": 1,
   "metadata": {},
   "outputs": [],
   "source": [
    "from sklearn import tree\n",
    "import pandas as pd\n",
    "import numpy as np\n",
    "import matplotlib.pyplot as plt\n",
    "import seaborn as sns\n",
    "import os"
   ]
  },
  {
   "cell_type": "code",
   "execution_count": 2,
   "metadata": {},
   "outputs": [
    {
     "data": {
      "text/plain": [
       "'2.5.0'"
      ]
     },
     "execution_count": 2,
     "metadata": {},
     "output_type": "execute_result"
    }
   ],
   "source": [
    "import tensorflow\n",
    "tensorflow.keras.__version__"
   ]
  },
  {
   "cell_type": "markdown",
   "metadata": {},
   "source": [
    "# Read the CSV and Perform Basic Data Cleaning"
   ]
  },
  {
   "cell_type": "code",
   "execution_count": 3,
   "metadata": {},
   "outputs": [
    {
     "data": {
      "text/html": [
       "<div>\n",
       "<style scoped>\n",
       "    .dataframe tbody tr th:only-of-type {\n",
       "        vertical-align: middle;\n",
       "    }\n",
       "\n",
       "    .dataframe tbody tr th {\n",
       "        vertical-align: top;\n",
       "    }\n",
       "\n",
       "    .dataframe thead th {\n",
       "        text-align: right;\n",
       "    }\n",
       "</style>\n",
       "<table border=\"1\" class=\"dataframe\">\n",
       "  <thead>\n",
       "    <tr style=\"text-align: right;\">\n",
       "      <th></th>\n",
       "      <th>koi_disposition</th>\n",
       "      <th>koi_fpflag_nt</th>\n",
       "      <th>koi_fpflag_ss</th>\n",
       "      <th>koi_fpflag_co</th>\n",
       "      <th>koi_fpflag_ec</th>\n",
       "      <th>koi_period</th>\n",
       "      <th>koi_period_err1</th>\n",
       "      <th>koi_period_err2</th>\n",
       "      <th>koi_time0bk</th>\n",
       "      <th>koi_time0bk_err1</th>\n",
       "      <th>...</th>\n",
       "      <th>koi_steff_err2</th>\n",
       "      <th>koi_slogg</th>\n",
       "      <th>koi_slogg_err1</th>\n",
       "      <th>koi_slogg_err2</th>\n",
       "      <th>koi_srad</th>\n",
       "      <th>koi_srad_err1</th>\n",
       "      <th>koi_srad_err2</th>\n",
       "      <th>ra</th>\n",
       "      <th>dec</th>\n",
       "      <th>koi_kepmag</th>\n",
       "    </tr>\n",
       "  </thead>\n",
       "  <tbody>\n",
       "    <tr>\n",
       "      <th>0</th>\n",
       "      <td>CONFIRMED</td>\n",
       "      <td>0</td>\n",
       "      <td>0</td>\n",
       "      <td>0</td>\n",
       "      <td>0</td>\n",
       "      <td>54.418383</td>\n",
       "      <td>2.479000e-04</td>\n",
       "      <td>-2.479000e-04</td>\n",
       "      <td>162.513840</td>\n",
       "      <td>0.003520</td>\n",
       "      <td>...</td>\n",
       "      <td>-81</td>\n",
       "      <td>4.467</td>\n",
       "      <td>0.064</td>\n",
       "      <td>-0.096</td>\n",
       "      <td>0.927</td>\n",
       "      <td>0.105</td>\n",
       "      <td>-0.061</td>\n",
       "      <td>291.93423</td>\n",
       "      <td>48.141651</td>\n",
       "      <td>15.347</td>\n",
       "    </tr>\n",
       "    <tr>\n",
       "      <th>1</th>\n",
       "      <td>FALSE POSITIVE</td>\n",
       "      <td>0</td>\n",
       "      <td>1</td>\n",
       "      <td>0</td>\n",
       "      <td>0</td>\n",
       "      <td>19.899140</td>\n",
       "      <td>1.490000e-05</td>\n",
       "      <td>-1.490000e-05</td>\n",
       "      <td>175.850252</td>\n",
       "      <td>0.000581</td>\n",
       "      <td>...</td>\n",
       "      <td>-176</td>\n",
       "      <td>4.544</td>\n",
       "      <td>0.044</td>\n",
       "      <td>-0.176</td>\n",
       "      <td>0.868</td>\n",
       "      <td>0.233</td>\n",
       "      <td>-0.078</td>\n",
       "      <td>297.00482</td>\n",
       "      <td>48.134129</td>\n",
       "      <td>15.436</td>\n",
       "    </tr>\n",
       "    <tr>\n",
       "      <th>2</th>\n",
       "      <td>FALSE POSITIVE</td>\n",
       "      <td>0</td>\n",
       "      <td>1</td>\n",
       "      <td>0</td>\n",
       "      <td>0</td>\n",
       "      <td>1.736952</td>\n",
       "      <td>2.630000e-07</td>\n",
       "      <td>-2.630000e-07</td>\n",
       "      <td>170.307565</td>\n",
       "      <td>0.000115</td>\n",
       "      <td>...</td>\n",
       "      <td>-174</td>\n",
       "      <td>4.564</td>\n",
       "      <td>0.053</td>\n",
       "      <td>-0.168</td>\n",
       "      <td>0.791</td>\n",
       "      <td>0.201</td>\n",
       "      <td>-0.067</td>\n",
       "      <td>285.53461</td>\n",
       "      <td>48.285210</td>\n",
       "      <td>15.597</td>\n",
       "    </tr>\n",
       "    <tr>\n",
       "      <th>3</th>\n",
       "      <td>CONFIRMED</td>\n",
       "      <td>0</td>\n",
       "      <td>0</td>\n",
       "      <td>0</td>\n",
       "      <td>0</td>\n",
       "      <td>2.525592</td>\n",
       "      <td>3.760000e-06</td>\n",
       "      <td>-3.760000e-06</td>\n",
       "      <td>171.595550</td>\n",
       "      <td>0.001130</td>\n",
       "      <td>...</td>\n",
       "      <td>-211</td>\n",
       "      <td>4.438</td>\n",
       "      <td>0.070</td>\n",
       "      <td>-0.210</td>\n",
       "      <td>1.046</td>\n",
       "      <td>0.334</td>\n",
       "      <td>-0.133</td>\n",
       "      <td>288.75488</td>\n",
       "      <td>48.226200</td>\n",
       "      <td>15.509</td>\n",
       "    </tr>\n",
       "    <tr>\n",
       "      <th>4</th>\n",
       "      <td>CONFIRMED</td>\n",
       "      <td>0</td>\n",
       "      <td>0</td>\n",
       "      <td>0</td>\n",
       "      <td>0</td>\n",
       "      <td>4.134435</td>\n",
       "      <td>1.050000e-05</td>\n",
       "      <td>-1.050000e-05</td>\n",
       "      <td>172.979370</td>\n",
       "      <td>0.001900</td>\n",
       "      <td>...</td>\n",
       "      <td>-232</td>\n",
       "      <td>4.486</td>\n",
       "      <td>0.054</td>\n",
       "      <td>-0.229</td>\n",
       "      <td>0.972</td>\n",
       "      <td>0.315</td>\n",
       "      <td>-0.105</td>\n",
       "      <td>296.28613</td>\n",
       "      <td>48.224670</td>\n",
       "      <td>15.714</td>\n",
       "    </tr>\n",
       "  </tbody>\n",
       "</table>\n",
       "<p>5 rows × 41 columns</p>\n",
       "</div>"
      ],
      "text/plain": [
       "  koi_disposition  koi_fpflag_nt  koi_fpflag_ss  koi_fpflag_co  koi_fpflag_ec  \\\n",
       "0       CONFIRMED              0              0              0              0   \n",
       "1  FALSE POSITIVE              0              1              0              0   \n",
       "2  FALSE POSITIVE              0              1              0              0   \n",
       "3       CONFIRMED              0              0              0              0   \n",
       "4       CONFIRMED              0              0              0              0   \n",
       "\n",
       "   koi_period  koi_period_err1  koi_period_err2  koi_time0bk  \\\n",
       "0   54.418383     2.479000e-04    -2.479000e-04   162.513840   \n",
       "1   19.899140     1.490000e-05    -1.490000e-05   175.850252   \n",
       "2    1.736952     2.630000e-07    -2.630000e-07   170.307565   \n",
       "3    2.525592     3.760000e-06    -3.760000e-06   171.595550   \n",
       "4    4.134435     1.050000e-05    -1.050000e-05   172.979370   \n",
       "\n",
       "   koi_time0bk_err1  ...  koi_steff_err2  koi_slogg  koi_slogg_err1  \\\n",
       "0          0.003520  ...             -81      4.467           0.064   \n",
       "1          0.000581  ...            -176      4.544           0.044   \n",
       "2          0.000115  ...            -174      4.564           0.053   \n",
       "3          0.001130  ...            -211      4.438           0.070   \n",
       "4          0.001900  ...            -232      4.486           0.054   \n",
       "\n",
       "   koi_slogg_err2  koi_srad  koi_srad_err1  koi_srad_err2         ra  \\\n",
       "0          -0.096     0.927          0.105         -0.061  291.93423   \n",
       "1          -0.176     0.868          0.233         -0.078  297.00482   \n",
       "2          -0.168     0.791          0.201         -0.067  285.53461   \n",
       "3          -0.210     1.046          0.334         -0.133  288.75488   \n",
       "4          -0.229     0.972          0.315         -0.105  296.28613   \n",
       "\n",
       "         dec  koi_kepmag  \n",
       "0  48.141651      15.347  \n",
       "1  48.134129      15.436  \n",
       "2  48.285210      15.597  \n",
       "3  48.226200      15.509  \n",
       "4  48.224670      15.714  \n",
       "\n",
       "[5 rows x 41 columns]"
      ]
     },
     "execution_count": 3,
     "metadata": {},
     "output_type": "execute_result"
    }
   ],
   "source": [
    "df = pd.read_csv(\"Resources/exoplanet_data.csv\")\n",
    "# Drop the null columns where all values are null\n",
    "df = df.dropna(axis='columns', how='all')\n",
    "# Drop the null rows\n",
    "df = df.dropna()\n",
    "\n",
    "df.head()"
   ]
  },
  {
   "cell_type": "code",
   "execution_count": 4,
   "metadata": {},
   "outputs": [
    {
     "data": {
      "text/plain": [
       "Index(['koi_disposition', 'koi_fpflag_nt', 'koi_fpflag_ss', 'koi_fpflag_co',\n",
       "       'koi_fpflag_ec', 'koi_period', 'koi_period_err1', 'koi_period_err2',\n",
       "       'koi_time0bk', 'koi_time0bk_err1', 'koi_time0bk_err2', 'koi_impact',\n",
       "       'koi_impact_err1', 'koi_impact_err2', 'koi_duration',\n",
       "       'koi_duration_err1', 'koi_duration_err2', 'koi_depth', 'koi_depth_err1',\n",
       "       'koi_depth_err2', 'koi_prad', 'koi_prad_err1', 'koi_prad_err2',\n",
       "       'koi_teq', 'koi_insol', 'koi_insol_err1', 'koi_insol_err2',\n",
       "       'koi_model_snr', 'koi_tce_plnt_num', 'koi_steff', 'koi_steff_err1',\n",
       "       'koi_steff_err2', 'koi_slogg', 'koi_slogg_err1', 'koi_slogg_err2',\n",
       "       'koi_srad', 'koi_srad_err1', 'koi_srad_err2', 'ra', 'dec',\n",
       "       'koi_kepmag'],\n",
       "      dtype='object')"
      ]
     },
     "execution_count": 4,
     "metadata": {},
     "output_type": "execute_result"
    }
   ],
   "source": [
    "df.columns"
   ]
  },
  {
   "cell_type": "code",
   "execution_count": 5,
   "metadata": {},
   "outputs": [
    {
     "data": {
      "text/plain": [
       "(6991, 41)"
      ]
     },
     "execution_count": 5,
     "metadata": {},
     "output_type": "execute_result"
    }
   ],
   "source": [
    "df.shape"
   ]
  },
  {
   "cell_type": "markdown",
   "metadata": {},
   "source": [
    "# Select your features (columns)"
   ]
  },
  {
   "cell_type": "code",
   "execution_count": 6,
   "metadata": {},
   "outputs": [
    {
     "data": {
      "text/html": [
       "<div>\n",
       "<style scoped>\n",
       "    .dataframe tbody tr th:only-of-type {\n",
       "        vertical-align: middle;\n",
       "    }\n",
       "\n",
       "    .dataframe tbody tr th {\n",
       "        vertical-align: top;\n",
       "    }\n",
       "\n",
       "    .dataframe thead th {\n",
       "        text-align: right;\n",
       "    }\n",
       "</style>\n",
       "<table border=\"1\" class=\"dataframe\">\n",
       "  <thead>\n",
       "    <tr style=\"text-align: right;\">\n",
       "      <th></th>\n",
       "      <th>koi_fpflag_nt</th>\n",
       "      <th>koi_fpflag_ss</th>\n",
       "      <th>koi_fpflag_co</th>\n",
       "      <th>koi_fpflag_ec</th>\n",
       "      <th>koi_period</th>\n",
       "      <th>koi_period_err1</th>\n",
       "      <th>koi_period_err2</th>\n",
       "      <th>koi_time0bk</th>\n",
       "      <th>koi_time0bk_err1</th>\n",
       "      <th>koi_time0bk_err2</th>\n",
       "      <th>...</th>\n",
       "      <th>koi_steff_err2</th>\n",
       "      <th>koi_slogg</th>\n",
       "      <th>koi_slogg_err1</th>\n",
       "      <th>koi_slogg_err2</th>\n",
       "      <th>koi_srad</th>\n",
       "      <th>koi_srad_err1</th>\n",
       "      <th>koi_srad_err2</th>\n",
       "      <th>ra</th>\n",
       "      <th>dec</th>\n",
       "      <th>koi_kepmag</th>\n",
       "    </tr>\n",
       "  </thead>\n",
       "  <tbody>\n",
       "    <tr>\n",
       "      <th>0</th>\n",
       "      <td>0</td>\n",
       "      <td>0</td>\n",
       "      <td>0</td>\n",
       "      <td>0</td>\n",
       "      <td>54.418383</td>\n",
       "      <td>2.479000e-04</td>\n",
       "      <td>-2.479000e-04</td>\n",
       "      <td>162.513840</td>\n",
       "      <td>0.003520</td>\n",
       "      <td>-0.003520</td>\n",
       "      <td>...</td>\n",
       "      <td>-81</td>\n",
       "      <td>4.467</td>\n",
       "      <td>0.064</td>\n",
       "      <td>-0.096</td>\n",
       "      <td>0.927</td>\n",
       "      <td>0.105</td>\n",
       "      <td>-0.061</td>\n",
       "      <td>291.93423</td>\n",
       "      <td>48.141651</td>\n",
       "      <td>15.347</td>\n",
       "    </tr>\n",
       "    <tr>\n",
       "      <th>1</th>\n",
       "      <td>0</td>\n",
       "      <td>1</td>\n",
       "      <td>0</td>\n",
       "      <td>0</td>\n",
       "      <td>19.899140</td>\n",
       "      <td>1.490000e-05</td>\n",
       "      <td>-1.490000e-05</td>\n",
       "      <td>175.850252</td>\n",
       "      <td>0.000581</td>\n",
       "      <td>-0.000581</td>\n",
       "      <td>...</td>\n",
       "      <td>-176</td>\n",
       "      <td>4.544</td>\n",
       "      <td>0.044</td>\n",
       "      <td>-0.176</td>\n",
       "      <td>0.868</td>\n",
       "      <td>0.233</td>\n",
       "      <td>-0.078</td>\n",
       "      <td>297.00482</td>\n",
       "      <td>48.134129</td>\n",
       "      <td>15.436</td>\n",
       "    </tr>\n",
       "    <tr>\n",
       "      <th>2</th>\n",
       "      <td>0</td>\n",
       "      <td>1</td>\n",
       "      <td>0</td>\n",
       "      <td>0</td>\n",
       "      <td>1.736952</td>\n",
       "      <td>2.630000e-07</td>\n",
       "      <td>-2.630000e-07</td>\n",
       "      <td>170.307565</td>\n",
       "      <td>0.000115</td>\n",
       "      <td>-0.000115</td>\n",
       "      <td>...</td>\n",
       "      <td>-174</td>\n",
       "      <td>4.564</td>\n",
       "      <td>0.053</td>\n",
       "      <td>-0.168</td>\n",
       "      <td>0.791</td>\n",
       "      <td>0.201</td>\n",
       "      <td>-0.067</td>\n",
       "      <td>285.53461</td>\n",
       "      <td>48.285210</td>\n",
       "      <td>15.597</td>\n",
       "    </tr>\n",
       "    <tr>\n",
       "      <th>3</th>\n",
       "      <td>0</td>\n",
       "      <td>0</td>\n",
       "      <td>0</td>\n",
       "      <td>0</td>\n",
       "      <td>2.525592</td>\n",
       "      <td>3.760000e-06</td>\n",
       "      <td>-3.760000e-06</td>\n",
       "      <td>171.595550</td>\n",
       "      <td>0.001130</td>\n",
       "      <td>-0.001130</td>\n",
       "      <td>...</td>\n",
       "      <td>-211</td>\n",
       "      <td>4.438</td>\n",
       "      <td>0.070</td>\n",
       "      <td>-0.210</td>\n",
       "      <td>1.046</td>\n",
       "      <td>0.334</td>\n",
       "      <td>-0.133</td>\n",
       "      <td>288.75488</td>\n",
       "      <td>48.226200</td>\n",
       "      <td>15.509</td>\n",
       "    </tr>\n",
       "    <tr>\n",
       "      <th>4</th>\n",
       "      <td>0</td>\n",
       "      <td>0</td>\n",
       "      <td>0</td>\n",
       "      <td>0</td>\n",
       "      <td>4.134435</td>\n",
       "      <td>1.050000e-05</td>\n",
       "      <td>-1.050000e-05</td>\n",
       "      <td>172.979370</td>\n",
       "      <td>0.001900</td>\n",
       "      <td>-0.001900</td>\n",
       "      <td>...</td>\n",
       "      <td>-232</td>\n",
       "      <td>4.486</td>\n",
       "      <td>0.054</td>\n",
       "      <td>-0.229</td>\n",
       "      <td>0.972</td>\n",
       "      <td>0.315</td>\n",
       "      <td>-0.105</td>\n",
       "      <td>296.28613</td>\n",
       "      <td>48.224670</td>\n",
       "      <td>15.714</td>\n",
       "    </tr>\n",
       "  </tbody>\n",
       "</table>\n",
       "<p>5 rows × 40 columns</p>\n",
       "</div>"
      ],
      "text/plain": [
       "   koi_fpflag_nt  koi_fpflag_ss  koi_fpflag_co  koi_fpflag_ec  koi_period  \\\n",
       "0              0              0              0              0   54.418383   \n",
       "1              0              1              0              0   19.899140   \n",
       "2              0              1              0              0    1.736952   \n",
       "3              0              0              0              0    2.525592   \n",
       "4              0              0              0              0    4.134435   \n",
       "\n",
       "   koi_period_err1  koi_period_err2  koi_time0bk  koi_time0bk_err1  \\\n",
       "0     2.479000e-04    -2.479000e-04   162.513840          0.003520   \n",
       "1     1.490000e-05    -1.490000e-05   175.850252          0.000581   \n",
       "2     2.630000e-07    -2.630000e-07   170.307565          0.000115   \n",
       "3     3.760000e-06    -3.760000e-06   171.595550          0.001130   \n",
       "4     1.050000e-05    -1.050000e-05   172.979370          0.001900   \n",
       "\n",
       "   koi_time0bk_err2  ...  koi_steff_err2  koi_slogg  koi_slogg_err1  \\\n",
       "0         -0.003520  ...             -81      4.467           0.064   \n",
       "1         -0.000581  ...            -176      4.544           0.044   \n",
       "2         -0.000115  ...            -174      4.564           0.053   \n",
       "3         -0.001130  ...            -211      4.438           0.070   \n",
       "4         -0.001900  ...            -232      4.486           0.054   \n",
       "\n",
       "   koi_slogg_err2  koi_srad  koi_srad_err1  koi_srad_err2         ra  \\\n",
       "0          -0.096     0.927          0.105         -0.061  291.93423   \n",
       "1          -0.176     0.868          0.233         -0.078  297.00482   \n",
       "2          -0.168     0.791          0.201         -0.067  285.53461   \n",
       "3          -0.210     1.046          0.334         -0.133  288.75488   \n",
       "4          -0.229     0.972          0.315         -0.105  296.28613   \n",
       "\n",
       "         dec  koi_kepmag  \n",
       "0  48.141651      15.347  \n",
       "1  48.134129      15.436  \n",
       "2  48.285210      15.597  \n",
       "3  48.226200      15.509  \n",
       "4  48.224670      15.714  \n",
       "\n",
       "[5 rows x 40 columns]"
      ]
     },
     "execution_count": 6,
     "metadata": {},
     "output_type": "execute_result"
    }
   ],
   "source": [
    "# Set features. This will also be used as your x values\n",
    "target = df[\"koi_disposition\"]\n",
    "data = df.drop(\"koi_disposition\", axis =1)\n",
    "feature_names = data.columns\n",
    "data.head()"
   ]
  },
  {
   "cell_type": "code",
   "execution_count": 7,
   "metadata": {},
   "outputs": [
    {
     "name": "stdout",
     "output_type": "stream",
     "text": [
      "[0.12955492 0.16603476 0.12795689 0.05127369 0.01698763 0.01349225\n",
      " 0.01388972 0.01312174 0.02105048 0.02267009 0.0121011  0.01140337\n",
      " 0.01019276 0.01687122 0.02965537 0.02740228 0.02134881 0.01225263\n",
      " 0.01219948 0.01333703 0.01352328 0.01093289 0.01353535 0.0087104\n",
      " 0.00918672 0.00954724 0.03256368 0.0096299  0.00986675 0.02215719\n",
      " 0.01785717 0.01137593 0.01136238 0.0152001  0.00902611 0.01184412\n",
      " 0.00922303 0.01127207 0.01024575 0.01014374]\n"
     ]
    },
    {
     "data": {
      "image/png": "[encoded data removed]",
      "text/plain": [
       "<Figure size 640x480 with 1 Axes>"
      ]
     },
     "metadata": {},
     "output_type": "display_data"
    }
   ],
   "source": [
    "# Feature Importance\n",
    "\n",
    "from sklearn.ensemble import ExtraTreesClassifier\n",
    "model = ExtraTreesClassifier()\n",
    "model.fit(data, target)\n",
    "print(model.feature_importances_)\n",
    "\n",
    "feat_importances = pd.Series(model.feature_importances_, index=feature_names)\n",
    "feat_importances.nlargest(10).plot(kind= \"barh\")\n",
    "plt.show()"
   ]
  },
  {
   "cell_type": "code",
   "execution_count": 8,
   "metadata": {},
   "outputs": [],
   "source": [
    "# Selected top 10 important features\n",
    "selected_features = data[['koi_fpflag_ss','koi_fpflag_nt','koi_fpflag_co','koi_fpflag_ec',\n",
    "                         'koi_model_snr','koi_duration_err1','koi_duration_err2','koi_steff_err1',\n",
    "                        'koi_time0bk_err1','koi_time0bk_err2']]"
   ]
  },
  {
   "cell_type": "markdown",
   "metadata": {},
   "source": [
    "# Create a Train Test Split\n",
    "\n",
    "Use `koi_disposition` for the y values"
   ]
  },
  {
   "cell_type": "code",
   "execution_count": 9,
   "metadata": {},
   "outputs": [],
   "source": [
    "# Split the data using train_test_split\n",
    "from sklearn.model_selection import train_test_split\n",
    "\n",
    "X_train, X_left, y_train, y_left = train_test_split(selected_features, target, train_size=.2)\n",
    "X_val, X_test, y_val, y_test = train_test_split(X_left, y_left, train_size=.2)"
   ]
  },
  {
   "cell_type": "code",
   "execution_count": 10,
   "metadata": {},
   "outputs": [
    {
     "data": {
      "text/plain": [
       "((1398, 10), (1118, 10), (4475, 10))"
      ]
     },
     "execution_count": 10,
     "metadata": {},
     "output_type": "execute_result"
    }
   ],
   "source": [
    "X_train.shape, X_val.shape, X_test.shape"
   ]
  },
  {
   "cell_type": "code",
   "execution_count": 11,
   "metadata": {},
   "outputs": [
    {
     "data": {
      "text/plain": [
       "ExtraTreesClassifier()"
      ]
     },
     "execution_count": 11,
     "metadata": {},
     "output_type": "execute_result"
    }
   ],
   "source": [
    "model.fit(X_train, y_train)"
   ]
  },
  {
   "cell_type": "code",
   "execution_count": 12,
   "metadata": {},
   "outputs": [
    {
     "data": {
      "text/plain": [
       "(1.0, 0.8846153846153846)"
      ]
     },
     "execution_count": 12,
     "metadata": {},
     "output_type": "execute_result"
    }
   ],
   "source": [
    "model.score(X_train, y_train),model.score(X_val, y_val)"
   ]
  },
  {
   "cell_type": "code",
   "execution_count": 13,
   "metadata": {},
   "outputs": [
    {
     "data": {
      "text/plain": [
       "0.8652513966480447"
      ]
     },
     "execution_count": 13,
     "metadata": {},
     "output_type": "execute_result"
    }
   ],
   "source": [
    "model.score(X_test, y_test)"
   ]
  },
  {
   "cell_type": "markdown",
   "metadata": {},
   "source": [
    "# Pre-processing\n",
    "\n",
    "Scale the data using the MinMaxScaler and perform some feature selection"
   ]
  },
  {
   "cell_type": "code",
   "execution_count": 14,
   "metadata": {},
   "outputs": [],
   "source": [
    "\n",
    "from sklearn.preprocessing import LabelEncoder, MinMaxScaler\n",
    "from tensorflow.keras.utils import to_categorical"
   ]
  },
  {
   "cell_type": "code",
   "execution_count": 15,
   "metadata": {},
   "outputs": [],
   "source": [
    "X_scaler = MinMaxScaler().fit(X_train)\n",
    "X_train_scaled = X_scaler.transform(X_train)\n",
    "X_test_scaled = X_scaler.transform(X_test)"
   ]
  },
  {
   "cell_type": "code",
   "execution_count": 16,
   "metadata": {},
   "outputs": [],
   "source": [
    "# Step 1: Label-encode data set\n",
    "label_encoder = LabelEncoder()\n",
    "label_encoder.fit(y_train)\n",
    "encoded_y_train = label_encoder.transform(y_train)\n",
    "encoded_y_test = label_encoder.transform(y_test)"
   ]
  },
  {
   "cell_type": "code",
   "execution_count": 17,
   "metadata": {},
   "outputs": [],
   "source": [
    "# Step 2: Convert encoded labels to one-hot-encoding\n",
    "y_train_categorical = to_categorical(encoded_y_train)\n",
    "y_test_categorical = to_categorical(encoded_y_test)"
   ]
  },
  {
   "cell_type": "code",
   "execution_count": null,
   "metadata": {},
   "outputs": [],
   "source": []
  },
  {
   "cell_type": "markdown",
   "metadata": {},
   "source": [
    "# Create a Deep Learning Model\n",
    "\n"
   ]
  },
  {
   "cell_type": "code",
   "execution_count": 18,
   "metadata": {},
   "outputs": [],
   "source": [
    "from tensorflow.keras.models import Sequential\n",
    "from tensorflow.keras.layers import Dense"
   ]
  },
  {
   "cell_type": "code",
   "execution_count": 19,
   "metadata": {},
   "outputs": [],
   "source": [
    "# Create model and add layers\n",
    "deep_model = Sequential()\n",
    "deep_model.add(Dense(units=100, activation='relu', input_dim=10))\n",
    "deep_model.add(Dense(units=100, activation='relu'))\n",
    "deep_model.add(Dense(units=3, activation='softmax'))\n",
    "\n"
   ]
  },
  {
   "cell_type": "code",
   "execution_count": null,
   "metadata": {},
   "outputs": [],
   "source": []
  },
  {
   "cell_type": "code",
   "execution_count": 20,
   "metadata": {},
   "outputs": [],
   "source": [
    "# Compile and fit the model\n",
    "deep_model.compile(optimizer='adam',\n",
    "              loss='categorical_crossentropy',\n",
    "              metrics=['accuracy'])"
   ]
  },
  {
   "cell_type": "code",
   "execution_count": 21,
   "metadata": {},
   "outputs": [
    {
     "name": "stdout",
     "output_type": "stream",
     "text": [
      "Model: \"sequential\"\n",
      "_________________________________________________________________\n",
      "Layer (type)                 Output Shape              Param #   \n",
      "=================================================================\n",
      "dense (Dense)                (None, 100)               1100      \n",
      "_________________________________________________________________\n",
      "dense_1 (Dense)              (None, 100)               10100     \n",
      "_________________________________________________________________\n",
      "dense_2 (Dense)              (None, 3)                 303       \n",
      "=================================================================\n",
      "Total params: 11,503\n",
      "Trainable params: 11,503\n",
      "Non-trainable params: 0\n",
      "_________________________________________________________________\n"
     ]
    }
   ],
   "source": [
    "deep_model.summary()"
   ]
  },
  {
   "cell_type": "code",
   "execution_count": 22,
   "metadata": {},
   "outputs": [
    {
     "name": "stdout",
     "output_type": "stream",
     "text": [
      "Epoch 1/100\n",
      "35/35 - 1s - loss: 0.8709 - accuracy: 0.5725 - val_loss: 0.6773 - val_accuracy: 0.7607\n",
      "Epoch 2/100\n",
      "35/35 - 0s - loss: 0.5353 - accuracy: 0.7522 - val_loss: 0.4213 - val_accuracy: 0.7607\n",
      "Epoch 3/100\n",
      "35/35 - 0s - loss: 0.4179 - accuracy: 0.7818 - val_loss: 0.3910 - val_accuracy: 0.8071\n",
      "Epoch 4/100\n",
      "35/35 - 0s - loss: 0.4044 - accuracy: 0.7773 - val_loss: 0.3746 - val_accuracy: 0.8286\n",
      "Epoch 5/100\n",
      "35/35 - 0s - loss: 0.3895 - accuracy: 0.7898 - val_loss: 0.3695 - val_accuracy: 0.7857\n",
      "Epoch 6/100\n",
      "35/35 - 0s - loss: 0.3812 - accuracy: 0.8014 - val_loss: 0.3686 - val_accuracy: 0.8000\n",
      "Epoch 7/100\n",
      "35/35 - 0s - loss: 0.3776 - accuracy: 0.7970 - val_loss: 0.3545 - val_accuracy: 0.8286\n",
      "Epoch 8/100\n",
      "35/35 - 0s - loss: 0.3735 - accuracy: 0.8050 - val_loss: 0.3597 - val_accuracy: 0.8357\n",
      "Epoch 9/100\n",
      "35/35 - 0s - loss: 0.3651 - accuracy: 0.8229 - val_loss: 0.3446 - val_accuracy: 0.8286\n",
      "Epoch 10/100\n",
      "35/35 - 0s - loss: 0.3593 - accuracy: 0.8301 - val_loss: 0.3453 - val_accuracy: 0.8393\n",
      "Epoch 11/100\n",
      "35/35 - 0s - loss: 0.3562 - accuracy: 0.8211 - val_loss: 0.3440 - val_accuracy: 0.8357\n",
      "Epoch 12/100\n",
      "35/35 - 0s - loss: 0.3539 - accuracy: 0.8283 - val_loss: 0.3469 - val_accuracy: 0.8357\n",
      "Epoch 13/100\n",
      "35/35 - 0s - loss: 0.3440 - accuracy: 0.8318 - val_loss: 0.3413 - val_accuracy: 0.8393\n",
      "Epoch 14/100\n",
      "35/35 - 0s - loss: 0.3419 - accuracy: 0.8301 - val_loss: 0.3363 - val_accuracy: 0.8393\n",
      "Epoch 15/100\n",
      "35/35 - 0s - loss: 0.3411 - accuracy: 0.8354 - val_loss: 0.3410 - val_accuracy: 0.8429\n",
      "Epoch 16/100\n",
      "35/35 - 0s - loss: 0.3527 - accuracy: 0.8095 - val_loss: 0.3291 - val_accuracy: 0.8500\n",
      "Epoch 17/100\n",
      "35/35 - 0s - loss: 0.3340 - accuracy: 0.8363 - val_loss: 0.3440 - val_accuracy: 0.8393\n",
      "Epoch 18/100\n",
      "35/35 - 0s - loss: 0.3312 - accuracy: 0.8354 - val_loss: 0.3389 - val_accuracy: 0.8357\n",
      "Epoch 19/100\n",
      "35/35 - 0s - loss: 0.3282 - accuracy: 0.8462 - val_loss: 0.3295 - val_accuracy: 0.8429\n",
      "Epoch 20/100\n",
      "35/35 - 0s - loss: 0.3272 - accuracy: 0.8462 - val_loss: 0.3292 - val_accuracy: 0.8464\n",
      "Epoch 21/100\n",
      "35/35 - 0s - loss: 0.3262 - accuracy: 0.8381 - val_loss: 0.3375 - val_accuracy: 0.8429\n",
      "Epoch 22/100\n",
      "35/35 - 0s - loss: 0.3274 - accuracy: 0.8462 - val_loss: 0.3290 - val_accuracy: 0.8607\n",
      "Epoch 23/100\n",
      "35/35 - 0s - loss: 0.3249 - accuracy: 0.8470 - val_loss: 0.3332 - val_accuracy: 0.8429\n",
      "Epoch 24/100\n",
      "35/35 - 0s - loss: 0.3234 - accuracy: 0.8444 - val_loss: 0.3335 - val_accuracy: 0.8500\n",
      "Epoch 25/100\n",
      "35/35 - 0s - loss: 0.3182 - accuracy: 0.8533 - val_loss: 0.3234 - val_accuracy: 0.8643\n",
      "Epoch 26/100\n",
      "35/35 - 0s - loss: 0.3240 - accuracy: 0.8542 - val_loss: 0.3382 - val_accuracy: 0.8393\n",
      "Epoch 27/100\n",
      "35/35 - 0s - loss: 0.3207 - accuracy: 0.8453 - val_loss: 0.3313 - val_accuracy: 0.8500\n",
      "Epoch 28/100\n",
      "35/35 - 0s - loss: 0.3166 - accuracy: 0.8462 - val_loss: 0.3202 - val_accuracy: 0.8500\n",
      "Epoch 29/100\n",
      "35/35 - 0s - loss: 0.3191 - accuracy: 0.8533 - val_loss: 0.3222 - val_accuracy: 0.8571\n",
      "Epoch 30/100\n",
      "35/35 - 0s - loss: 0.3160 - accuracy: 0.8542 - val_loss: 0.3366 - val_accuracy: 0.8393\n",
      "Epoch 31/100\n",
      "35/35 - 0s - loss: 0.3170 - accuracy: 0.8488 - val_loss: 0.3263 - val_accuracy: 0.8679\n",
      "Epoch 32/100\n",
      "35/35 - 0s - loss: 0.3138 - accuracy: 0.8533 - val_loss: 0.3296 - val_accuracy: 0.8464\n",
      "Epoch 33/100\n",
      "35/35 - 0s - loss: 0.3181 - accuracy: 0.8453 - val_loss: 0.3341 - val_accuracy: 0.8357\n",
      "Epoch 34/100\n",
      "35/35 - 0s - loss: 0.3202 - accuracy: 0.8444 - val_loss: 0.3504 - val_accuracy: 0.8429\n",
      "Epoch 35/100\n",
      "35/35 - 0s - loss: 0.3209 - accuracy: 0.8408 - val_loss: 0.3210 - val_accuracy: 0.8464\n",
      "Epoch 36/100\n",
      "35/35 - 0s - loss: 0.3125 - accuracy: 0.8605 - val_loss: 0.3295 - val_accuracy: 0.8393\n",
      "Epoch 37/100\n",
      "35/35 - 0s - loss: 0.3149 - accuracy: 0.8470 - val_loss: 0.3371 - val_accuracy: 0.8607\n",
      "Epoch 38/100\n",
      "35/35 - 0s - loss: 0.3152 - accuracy: 0.8533 - val_loss: 0.3277 - val_accuracy: 0.8607\n",
      "Epoch 39/100\n",
      "35/35 - 0s - loss: 0.3252 - accuracy: 0.8426 - val_loss: 0.3224 - val_accuracy: 0.8607\n",
      "Epoch 40/100\n",
      "35/35 - 0s - loss: 0.3146 - accuracy: 0.8488 - val_loss: 0.3252 - val_accuracy: 0.8393\n",
      "Epoch 41/100\n",
      "35/35 - 0s - loss: 0.3155 - accuracy: 0.8524 - val_loss: 0.3263 - val_accuracy: 0.8429\n",
      "Epoch 42/100\n",
      "35/35 - 0s - loss: 0.3155 - accuracy: 0.8551 - val_loss: 0.3211 - val_accuracy: 0.8571\n",
      "Epoch 43/100\n",
      "35/35 - 0s - loss: 0.3225 - accuracy: 0.8426 - val_loss: 0.3307 - val_accuracy: 0.8429\n",
      "Epoch 44/100\n",
      "35/35 - 0s - loss: 0.3119 - accuracy: 0.8560 - val_loss: 0.3222 - val_accuracy: 0.8536\n",
      "Epoch 45/100\n",
      "35/35 - 0s - loss: 0.3131 - accuracy: 0.8479 - val_loss: 0.3322 - val_accuracy: 0.8429\n",
      "Epoch 46/100\n",
      "35/35 - 0s - loss: 0.3163 - accuracy: 0.8551 - val_loss: 0.3286 - val_accuracy: 0.8714\n",
      "Epoch 47/100\n",
      "35/35 - 0s - loss: 0.3088 - accuracy: 0.8515 - val_loss: 0.3234 - val_accuracy: 0.8643\n",
      "Epoch 48/100\n",
      "35/35 - 0s - loss: 0.3234 - accuracy: 0.8435 - val_loss: 0.3195 - val_accuracy: 0.8571\n",
      "Epoch 49/100\n",
      "35/35 - 0s - loss: 0.3141 - accuracy: 0.8497 - val_loss: 0.3254 - val_accuracy: 0.8679\n",
      "Epoch 50/100\n",
      "35/35 - 0s - loss: 0.3142 - accuracy: 0.8497 - val_loss: 0.3239 - val_accuracy: 0.8500\n",
      "Epoch 51/100\n",
      "35/35 - 0s - loss: 0.3089 - accuracy: 0.8551 - val_loss: 0.3299 - val_accuracy: 0.8536\n",
      "Epoch 52/100\n",
      "35/35 - 0s - loss: 0.3072 - accuracy: 0.8587 - val_loss: 0.3319 - val_accuracy: 0.8571\n",
      "Epoch 53/100\n",
      "35/35 - 0s - loss: 0.3240 - accuracy: 0.8488 - val_loss: 0.3271 - val_accuracy: 0.8393\n",
      "Epoch 54/100\n",
      "35/35 - 0s - loss: 0.3167 - accuracy: 0.8497 - val_loss: 0.3241 - val_accuracy: 0.8643\n",
      "Epoch 55/100\n",
      "35/35 - 0s - loss: 0.3079 - accuracy: 0.8569 - val_loss: 0.3225 - val_accuracy: 0.8643\n",
      "Epoch 56/100\n",
      "35/35 - 0s - loss: 0.3057 - accuracy: 0.8596 - val_loss: 0.3248 - val_accuracy: 0.8571\n",
      "Epoch 57/100\n",
      "35/35 - 0s - loss: 0.3100 - accuracy: 0.8569 - val_loss: 0.3263 - val_accuracy: 0.8607\n",
      "Epoch 58/100\n",
      "35/35 - 0s - loss: 0.3077 - accuracy: 0.8524 - val_loss: 0.3263 - val_accuracy: 0.8571\n",
      "Epoch 59/100\n",
      "35/35 - 0s - loss: 0.3079 - accuracy: 0.8569 - val_loss: 0.3196 - val_accuracy: 0.8714\n",
      "Epoch 60/100\n",
      "35/35 - 0s - loss: 0.3082 - accuracy: 0.8506 - val_loss: 0.3370 - val_accuracy: 0.8429\n",
      "Epoch 61/100\n",
      "35/35 - 0s - loss: 0.3124 - accuracy: 0.8533 - val_loss: 0.3276 - val_accuracy: 0.8571\n",
      "Epoch 62/100\n",
      "35/35 - 0s - loss: 0.3138 - accuracy: 0.8533 - val_loss: 0.3334 - val_accuracy: 0.8393\n",
      "Epoch 63/100\n",
      "35/35 - 0s - loss: 0.3118 - accuracy: 0.8533 - val_loss: 0.3477 - val_accuracy: 0.8393\n",
      "Epoch 64/100\n",
      "35/35 - 0s - loss: 0.3151 - accuracy: 0.8453 - val_loss: 0.3283 - val_accuracy: 0.8607\n",
      "Epoch 65/100\n",
      "35/35 - 0s - loss: 0.3105 - accuracy: 0.8560 - val_loss: 0.3195 - val_accuracy: 0.8714\n",
      "Epoch 66/100\n",
      "35/35 - 0s - loss: 0.3074 - accuracy: 0.8587 - val_loss: 0.3415 - val_accuracy: 0.8357\n",
      "Epoch 67/100\n",
      "35/35 - 0s - loss: 0.3114 - accuracy: 0.8560 - val_loss: 0.3245 - val_accuracy: 0.8536\n",
      "Epoch 68/100\n",
      "35/35 - 0s - loss: 0.3112 - accuracy: 0.8515 - val_loss: 0.3199 - val_accuracy: 0.8571\n",
      "Epoch 69/100\n",
      "35/35 - 0s - loss: 0.3090 - accuracy: 0.8631 - val_loss: 0.3209 - val_accuracy: 0.8714\n",
      "Epoch 70/100\n",
      "35/35 - 0s - loss: 0.3099 - accuracy: 0.8578 - val_loss: 0.3213 - val_accuracy: 0.8643\n",
      "Epoch 71/100\n",
      "35/35 - 0s - loss: 0.3048 - accuracy: 0.8614 - val_loss: 0.3220 - val_accuracy: 0.8714\n",
      "Epoch 72/100\n",
      "35/35 - 0s - loss: 0.3047 - accuracy: 0.8640 - val_loss: 0.3206 - val_accuracy: 0.8714\n",
      "Epoch 73/100\n",
      "35/35 - 0s - loss: 0.3092 - accuracy: 0.8533 - val_loss: 0.3213 - val_accuracy: 0.8643\n",
      "Epoch 74/100\n",
      "35/35 - 0s - loss: 0.3072 - accuracy: 0.8542 - val_loss: 0.3314 - val_accuracy: 0.8571\n",
      "Epoch 75/100\n",
      "35/35 - 0s - loss: 0.3046 - accuracy: 0.8596 - val_loss: 0.3185 - val_accuracy: 0.8643\n",
      "Epoch 76/100\n",
      "35/35 - 0s - loss: 0.3044 - accuracy: 0.8596 - val_loss: 0.3217 - val_accuracy: 0.8714\n",
      "Epoch 77/100\n",
      "35/35 - 0s - loss: 0.3059 - accuracy: 0.8542 - val_loss: 0.3366 - val_accuracy: 0.8536\n",
      "Epoch 78/100\n",
      "35/35 - 0s - loss: 0.3067 - accuracy: 0.8605 - val_loss: 0.3395 - val_accuracy: 0.8321\n",
      "Epoch 79/100\n",
      "35/35 - 0s - loss: 0.3150 - accuracy: 0.8524 - val_loss: 0.3215 - val_accuracy: 0.8714\n",
      "Epoch 80/100\n",
      "35/35 - 0s - loss: 0.3045 - accuracy: 0.8560 - val_loss: 0.3235 - val_accuracy: 0.8643\n",
      "Epoch 81/100\n",
      "35/35 - 0s - loss: 0.3040 - accuracy: 0.8542 - val_loss: 0.3251 - val_accuracy: 0.8571\n",
      "Epoch 82/100\n",
      "35/35 - 0s - loss: 0.3062 - accuracy: 0.8587 - val_loss: 0.3292 - val_accuracy: 0.8571\n",
      "Epoch 83/100\n"
     ]
    },
    {
     "name": "stdout",
     "output_type": "stream",
     "text": [
      "35/35 - 0s - loss: 0.3047 - accuracy: 0.8614 - val_loss: 0.3291 - val_accuracy: 0.8500\n",
      "Epoch 84/100\n",
      "35/35 - 0s - loss: 0.3031 - accuracy: 0.8569 - val_loss: 0.3266 - val_accuracy: 0.8607\n",
      "Epoch 85/100\n",
      "35/35 - 0s - loss: 0.3086 - accuracy: 0.8497 - val_loss: 0.3210 - val_accuracy: 0.8607\n",
      "Epoch 86/100\n",
      "35/35 - 0s - loss: 0.3057 - accuracy: 0.8560 - val_loss: 0.3213 - val_accuracy: 0.8643\n",
      "Epoch 87/100\n",
      "35/35 - 0s - loss: 0.3087 - accuracy: 0.8506 - val_loss: 0.3286 - val_accuracy: 0.8464\n",
      "Epoch 88/100\n",
      "35/35 - 0s - loss: 0.3076 - accuracy: 0.8515 - val_loss: 0.3211 - val_accuracy: 0.8679\n",
      "Epoch 89/100\n",
      "35/35 - 0s - loss: 0.3050 - accuracy: 0.8533 - val_loss: 0.3237 - val_accuracy: 0.8571\n",
      "Epoch 90/100\n",
      "35/35 - 0s - loss: 0.3050 - accuracy: 0.8560 - val_loss: 0.3267 - val_accuracy: 0.8571\n",
      "Epoch 91/100\n",
      "35/35 - 0s - loss: 0.3020 - accuracy: 0.8631 - val_loss: 0.3208 - val_accuracy: 0.8750\n",
      "Epoch 92/100\n",
      "35/35 - 0s - loss: 0.3065 - accuracy: 0.8551 - val_loss: 0.3183 - val_accuracy: 0.8714\n",
      "Epoch 93/100\n",
      "35/35 - 0s - loss: 0.3026 - accuracy: 0.8605 - val_loss: 0.3195 - val_accuracy: 0.8607\n",
      "Epoch 94/100\n",
      "35/35 - 0s - loss: 0.3061 - accuracy: 0.8587 - val_loss: 0.3257 - val_accuracy: 0.8679\n",
      "Epoch 95/100\n",
      "35/35 - 0s - loss: 0.3048 - accuracy: 0.8596 - val_loss: 0.3393 - val_accuracy: 0.8429\n",
      "Epoch 96/100\n",
      "35/35 - 0s - loss: 0.3064 - accuracy: 0.8524 - val_loss: 0.3233 - val_accuracy: 0.8607\n",
      "Epoch 97/100\n",
      "35/35 - 0s - loss: 0.2995 - accuracy: 0.8631 - val_loss: 0.3200 - val_accuracy: 0.8643\n",
      "Epoch 98/100\n",
      "35/35 - 0s - loss: 0.3064 - accuracy: 0.8614 - val_loss: 0.3226 - val_accuracy: 0.8643\n",
      "Epoch 99/100\n",
      "35/35 - 0s - loss: 0.3007 - accuracy: 0.8578 - val_loss: 0.3292 - val_accuracy: 0.8429\n",
      "Epoch 100/100\n",
      "35/35 - 0s - loss: 0.3040 - accuracy: 0.8640 - val_loss: 0.3240 - val_accuracy: 0.8607\n"
     ]
    },
    {
     "data": {
      "text/plain": [
       "<tensorflow.python.keras.callbacks.History at 0x7fd7c27319a0>"
      ]
     },
     "execution_count": 22,
     "metadata": {},
     "output_type": "execute_result"
    }
   ],
   "source": [
    "deep_model.fit(\n",
    "    X_train_scaled,\n",
    "    y_train_categorical,\n",
    "    validation_split=.2 ,\n",
    "    epochs=100,\n",
    "    shuffle=True,\n",
    "    verbose=2\n",
    ")"
   ]
  },
  {
   "cell_type": "markdown",
   "metadata": {},
   "source": [
    "## Quantify our Trained Model"
   ]
  },
  {
   "cell_type": "code",
   "execution_count": 23,
   "metadata": {},
   "outputs": [
    {
     "name": "stdout",
     "output_type": "stream",
     "text": [
      "140/140 - 0s - loss: 0.3259 - accuracy: 0.8585\n",
      "Normal Neural Network - Loss: 0.3258807361125946, Accuracy: 0.8585475087165833\n"
     ]
    }
   ],
   "source": [
    "deep_model_loss, deep_model_accuracy = deep_model.evaluate(\n",
    "    X_test_scaled, y_test_categorical, verbose=2)\n",
    "print(\n",
    "    f\"Normal Neural Network - Loss: {deep_model_loss}, Accuracy: {deep_model_accuracy}\")"
   ]
  },
  {
   "cell_type": "markdown",
   "metadata": {},
   "source": [
    "## Make Predictions\n"
   ]
  },
  {
   "cell_type": "code",
   "execution_count": 24,
   "metadata": {},
   "outputs": [
    {
     "name": "stderr",
     "output_type": "stream",
     "text": [
      "/opt/anaconda3/lib/python3.8/site-packages/tensorflow/python/keras/engine/sequential.py:455: UserWarning: `model.predict_classes()` is deprecated and will be removed after 2021-01-01. Please use instead:* `np.argmax(model.predict(x), axis=-1)`,   if your model does multi-class classification   (e.g. if it uses a `softmax` last-layer activation).* `(model.predict(x) > 0.5).astype(\"int32\")`,   if your model does binary classification   (e.g. if it uses a `sigmoid` last-layer activation).\n",
      "  warnings.warn('`model.predict_classes()` is deprecated and '\n"
     ]
    }
   ],
   "source": [
    "encoded_predictions = deep_model.predict_classes(X_test_scaled[:5])\n",
    "prediction_labels = label_encoder.inverse_transform(encoded_predictions)"
   ]
  },
  {
   "cell_type": "code",
   "execution_count": 25,
   "metadata": {},
   "outputs": [
    {
     "name": "stdout",
     "output_type": "stream",
     "text": [
      "Predicted classes: ['CANDIDATE' 'FALSE POSITIVE' 'CANDIDATE' 'CANDIDATE' 'CONFIRMED']\n",
      "Actual Labels: ['CANDIDATE', 'FALSE POSITIVE', 'CANDIDATE', 'CANDIDATE', 'CONFIRMED']\n"
     ]
    }
   ],
   "source": [
    "print(f\"Predicted classes: {prediction_labels}\")\n",
    "print(f\"Actual Labels: {list(y_test[:5])}\")\n"
   ]
  },
  {
   "cell_type": "markdown",
   "metadata": {},
   "source": [
    "# Save the Model"
   ]
  },
  {
   "cell_type": "code",
   "execution_count": 26,
   "metadata": {},
   "outputs": [],
   "source": [
    "# save your model by updating \"your_name\" with your name\n",
    "# and \"your_model\" with your model variable\n",
    "# be sure to turn this in to BCS\n",
    "# if joblib fails to import, try running the command to install in terminal/git-bash\n",
    "\n",
    "deep_model.save(\"Models/model_deep_learning.h5\")"
   ]
  },
  {
   "cell_type": "code",
   "execution_count": null,
   "metadata": {},
   "outputs": [],
   "source": []
  }
 ],
 "metadata": {
  "kernel_info": {
   "name": "dev"
  },
  "kernelspec": {
   "display_name": "Python 3",
   "language": "python",
   "name": "python3"
  },
  "language_info": {
   "codemirror_mode": {
    "name": "ipython",
    "version": 3
   },
   "file_extension": ".py",
   "mimetype": "text/x-python",
   "name": "python",
   "nbconvert_exporter": "python",
   "pygments_lexer": "ipython3",
   "version": "3.8.5"
  },
  "nteract": {
   "version": "0.12.3"
  }
 },
 "nbformat": 4,
 "nbformat_minor": 2
}
